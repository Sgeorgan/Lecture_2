{
  "cells": [
    {
      "cell_type": "markdown",
      "metadata": {
        "id": "jViTg73i8Gcb"
      },
      "source": [
        "# Basic elements of Python\n",
        "\n"
      ]
    },
    {
      "cell_type": "markdown",
      "metadata": {
        "tags": [],
        "id": "-UQ9Yf1J8Gcd"
      },
      "source": [
        "## Sources\n",
        "\n",
        "This lesson is inspired by the [Programming in Python lessons](http://swcarpentry.github.io/python-novice-inflammation/) from the [Software Carpentry organization](http://software-carpentry.org) and has adapted or reused material from University of Helsinki Geo-python course (https://geo-python-site.readthedocs.io/en/latest/course-info/licensing.html ) under a Creative Commons Attribution-ShareAlike 4.0 International licence."
      ]
    },
    {
      "cell_type": "markdown",
      "metadata": {
        "id": "nkyPEk3R8Gcd"
      },
      "source": [
        "## Lists and indices\n",
        "\n",
        "We saw a bit about variables and their values in the lesson last week, and we continue today with some variables related to Bus stops in Karlstad, Sweden. Rather than having individual variables for each of those stations as we have previously, we can store many related values in a *collection*. The simplest type of collection in Python is a `list`."
      ]
    },
    {
      "cell_type": "markdown",
      "metadata": {
        "id": "ViYKTHZu8Gcd"
      },
      "source": [
        "### Creating a list\n",
        "\n",
        "Let’s first create a list of selected `station_name` values and print it to the screen."
      ]
    },
    {
      "cell_type": "code",
      "execution_count": 1,
      "metadata": {
        "id": "Ts8eNcdB8Gce"
      },
      "outputs": [],
      "source": [
        "station_names = [\n",
        "    \"Karlstad Drottninggatan\",\n",
        "    \"Karlstad Karolinen\",\n",
        "    \"Karlstad Ronndungen\",\n",
        "    \"Karlstad Kronoparkskyrkan\",\n",
        "    \"Karlstad Universitetet\"\n",
        "]"
      ]
    },
    {
      "cell_type": "code",
      "execution_count": 2,
      "metadata": {
        "id": "bREnNhVX8Gce",
        "outputId": "e4093ca2-1b3b-4885-e62f-70102a1f8d83",
        "colab": {
          "base_uri": "https://localhost:8080/"
        }
      },
      "outputs": [
        {
          "output_type": "stream",
          "name": "stdout",
          "text": [
            "['Karlstad Drottninggatan', 'Karlstad Karolinen', 'Karlstad Ronndungen', 'Karlstad Kronoparkskyrkan', 'Karlstad Universitetet']\n"
          ]
        }
      ],
      "source": [
        "print(station_names)"
      ]
    },
    {
      "cell_type": "markdown",
      "metadata": {
        "id": "vERGS3y68Gce"
      },
      "source": [
        "We can also check the type of the `station_names` list using the `type()` function."
      ]
    },
    {
      "cell_type": "code",
      "execution_count": 3,
      "metadata": {
        "id": "Pj_PLjyO8Gcf",
        "outputId": "35e46e32-3801-4a4c-940f-5907d966243a",
        "colab": {
          "base_uri": "https://localhost:8080/"
        }
      },
      "outputs": [
        {
          "output_type": "execute_result",
          "data": {
            "text/plain": [
              "list"
            ]
          },
          "metadata": {},
          "execution_count": 3
        }
      ],
      "source": [
        "type(station_names)"
      ]
    },
    {
      "cell_type": "markdown",
      "metadata": {
        "id": "vYRlWn4E8Gcf"
      },
      "source": [
        "Here we have a list of 5 `station_name` values in a list called `station_names`. As you can see, the `type()` function recognizes this as a list. Lists can be created using the square brackets `[` and `]`, with commas separating the values in the list."
      ]
    },
    {
      "cell_type": "markdown",
      "metadata": {
        "id": "q_4Z5Tup8Gcf"
      },
      "source": [
        "### Index values\n",
        "\n",
        "We can manipulate and process one of the items of the list with an `index` value. An index value is a number that refers to a given position in the list, Let’s check out the first value in our list as an example by printing out `station_names[1]`:"
      ]
    },
    {
      "cell_type": "code",
      "execution_count": 4,
      "metadata": {
        "id": "TAVX6dj28Gcf",
        "outputId": "8d89ca99-2e99-4ffb-b182-06bd32c3eb13",
        "colab": {
          "base_uri": "https://localhost:8080/"
        }
      },
      "outputs": [
        {
          "output_type": "stream",
          "name": "stdout",
          "text": [
            "Karlstad Karolinen\n"
          ]
        }
      ],
      "source": [
        "print(station_names[1])"
      ]
    },
    {
      "cell_type": "markdown",
      "metadata": {
        "id": "wAaEGmgg8Gcg"
      },
      "source": [
        "Wait, what? This is the second value in the list we’ve created, what is wrong? As it turns out, Python (and many other programming languages) start values stored in collections with the index value `0`. Thus, to get the value for the first item in the list, we must use index `0`. Let's print out the value at index `0` of `station_names` below."
      ]
    },
    {
      "cell_type": "code",
      "execution_count": 5,
      "metadata": {
        "id": "sW9Ee8r38Gcg",
        "outputId": "67be5be4-7901-42bb-891a-62b29dbe48f5",
        "colab": {
          "base_uri": "https://localhost:8080/"
        }
      },
      "outputs": [
        {
          "output_type": "stream",
          "name": "stdout",
          "text": [
            "Karlstad Drottninggatan\n"
          ]
        }
      ],
      "source": [
        "print(station_names[0])"
      ]
    },
    {
      "cell_type": "markdown",
      "metadata": {
        "id": "KJPxLqgk8Gcg"
      },
      "source": [
        "OK, that makes sense, but it may take some getting used to..."
      ]
    },
    {
      "cell_type": "markdown",
      "metadata": {
        "id": "eigHMtIS8Gcg"
      },
      "source": [
        "### Number of items in a list\n",
        "\n",
        "We can find the length of a list using the `len()` function. Use it below to check the length of the `station_names` list."
      ]
    },
    {
      "cell_type": "code",
      "execution_count": 6,
      "metadata": {
        "id": "Aow7C4nW8Gcg",
        "outputId": "c999403b-f227-45c8-a3c8-8779d3fa608a",
        "colab": {
          "base_uri": "https://localhost:8080/"
        }
      },
      "outputs": [
        {
          "output_type": "execute_result",
          "data": {
            "text/plain": [
              "5"
            ]
          },
          "metadata": {},
          "execution_count": 6
        }
      ],
      "source": [
        "len(station_names)"
      ]
    },
    {
      "cell_type": "markdown",
      "metadata": {
        "id": "cb9AuttS8Gcg"
      },
      "source": [
        "Just as expected, there are 5 values in our list and `len(station_names)` returns a value of `5`."
      ]
    },
    {
      "cell_type": "markdown",
      "metadata": {
        "id": "NPSgNrl08Gcg"
      },
      "source": [
        "### Index value tips\n",
        "\n",
        "If we know the length of the list, we can now use it to find the value of the last item in the list, right? What happens if you print the value from the `station_names` list at index `4`, the value of the length of the list?"
      ]
    },
    {
      "cell_type": "code",
      "execution_count": 7,
      "metadata": {
        "tags": [
          "raises-exception"
        ],
        "id": "L_Eu9QOQ8Gch",
        "outputId": "9a0b0d02-9109-4055-a05f-6aa13c3d48aa",
        "colab": {
          "base_uri": "https://localhost:8080/",
          "height": 175
        }
      },
      "outputs": [
        {
          "output_type": "error",
          "ename": "IndexError",
          "evalue": "ignored",
          "traceback": [
            "\u001b[0;31m---------------------------------------------------------------------------\u001b[0m",
            "\u001b[0;31mIndexError\u001b[0m                                Traceback (most recent call last)",
            "\u001b[0;32m<ipython-input-7-e70ccd57d6bd>\u001b[0m in \u001b[0;36m<cell line: 1>\u001b[0;34m()\u001b[0m\n\u001b[0;32m----> 1\u001b[0;31m \u001b[0mprint\u001b[0m\u001b[0;34m(\u001b[0m\u001b[0mstation_names\u001b[0m\u001b[0;34m[\u001b[0m\u001b[0;36m5\u001b[0m\u001b[0;34m]\u001b[0m\u001b[0;34m)\u001b[0m\u001b[0;34m\u001b[0m\u001b[0;34m\u001b[0m\u001b[0m\n\u001b[0m",
            "\u001b[0;31mIndexError\u001b[0m: list index out of range"
          ]
        }
      ],
      "source": [
        "print(station_names[5])"
      ]
    },
    {
      "cell_type": "markdown",
      "metadata": {
        "id": "COjyU5SG8Gch"
      },
      "source": [
        "An `IndexError`? That’s right, since our list starts with index `0` and has 4 values, the index of the last item in the list is `len(station_names) - 1`. That isn’t ideal, but fortunately there’s a nice trick in Python to find the last item in a list. Let's first print the `station_names` list to remind us of the values that are in it."
      ]
    },
    {
      "cell_type": "code",
      "execution_count": 8,
      "metadata": {
        "id": "yOIgYywc8Gch",
        "outputId": "4a50443e-74b4-4834-dd57-afbcfa43e268",
        "colab": {
          "base_uri": "https://localhost:8080/"
        }
      },
      "outputs": [
        {
          "output_type": "stream",
          "name": "stdout",
          "text": [
            "['Karlstad Drottninggatan', 'Karlstad Karolinen', 'Karlstad Ronndungen', 'Karlstad Kronoparkskyrkan', 'Karlstad Universitetet']\n"
          ]
        }
      ],
      "source": [
        "print(station_names)"
      ]
    },
    {
      "cell_type": "markdown",
      "metadata": {
        "id": "ygQnxh7H8Gch"
      },
      "source": [
        "To find the value at the end of the list, we can print the value at index `-1`. To go further up the list in reverse, we can simply use larger negative numbers, such as index `-5`. Let's print out the values at these indices below."
      ]
    },
    {
      "cell_type": "code",
      "execution_count": 9,
      "metadata": {
        "id": "2bbvDIAa8Gch",
        "outputId": "9ba93e3a-4895-499f-847e-8a002007d4ea",
        "colab": {
          "base_uri": "https://localhost:8080/"
        }
      },
      "outputs": [
        {
          "output_type": "stream",
          "name": "stdout",
          "text": [
            "Karlstad Universitetet\n"
          ]
        }
      ],
      "source": [
        "print(station_names[-1])"
      ]
    },
    {
      "cell_type": "code",
      "execution_count": 10,
      "metadata": {
        "id": "9fsf1u008Gch",
        "outputId": "8442cd0f-59bb-46b1-bda1-bc0c56ca0637",
        "colab": {
          "base_uri": "https://localhost:8080/"
        }
      },
      "outputs": [
        {
          "output_type": "stream",
          "name": "stdout",
          "text": [
            "Karlstad Drottninggatan\n"
          ]
        }
      ],
      "source": [
        "print(station_names[-5])"
      ]
    },
    {
      "cell_type": "markdown",
      "metadata": {
        "id": "u13sc8DT8Gch"
      },
      "source": [
        "Yes, in Python you can go backwards through lists by using negative index values. Index `-1` gives the last value in the list and index `-len(station_names)` would give the first. Of course, you still need to keep the index values within their ranges. What happens if you check the value at index `-6`?"
      ]
    },
    {
      "cell_type": "code",
      "execution_count": 11,
      "metadata": {
        "tags": [
          "raises-exception"
        ],
        "id": "BOl3jr638Gch",
        "outputId": "23112d95-3948-4d5a-85cb-91e746f1f1de",
        "colab": {
          "base_uri": "https://localhost:8080/",
          "height": 175
        }
      },
      "outputs": [
        {
          "output_type": "error",
          "ename": "IndexError",
          "evalue": "ignored",
          "traceback": [
            "\u001b[0;31m---------------------------------------------------------------------------\u001b[0m",
            "\u001b[0;31mIndexError\u001b[0m                                Traceback (most recent call last)",
            "\u001b[0;32m<ipython-input-11-cb3d5b31ed5d>\u001b[0m in \u001b[0;36m<cell line: 1>\u001b[0;34m()\u001b[0m\n\u001b[0;32m----> 1\u001b[0;31m \u001b[0mprint\u001b[0m\u001b[0;34m(\u001b[0m\u001b[0mstation_names\u001b[0m\u001b[0;34m[\u001b[0m\u001b[0;34m-\u001b[0m\u001b[0;36m6\u001b[0m\u001b[0;34m]\u001b[0m\u001b[0;34m)\u001b[0m\u001b[0;34m\u001b[0m\u001b[0;34m\u001b[0m\u001b[0m\n\u001b[0m",
            "\u001b[0;31mIndexError\u001b[0m: list index out of range"
          ]
        }
      ],
      "source": [
        "print(station_names[-6])"
      ]
    },
    {
      "cell_type": "markdown",
      "metadata": {
        "id": "J4ZKaX1j8Gci"
      },
      "source": [
        "### Modifying list values\n",
        "\n",
        "Another nice feature of lists is that they are *mutable*, meaning that the values in a list that has been defined can be modified. Consider a list of the observation station types corresponding to the station names in the `station_names` list."
      ]
    },
    {
      "cell_type": "code",
      "execution_count": 12,
      "metadata": {
        "id": "NDSTFMWm8Gci",
        "outputId": "2f1ec16d-390a-4ebd-f71e-13392d0bc0e1",
        "colab": {
          "base_uri": "https://localhost:8080/"
        }
      },
      "outputs": [
        {
          "output_type": "stream",
          "name": "stdout",
          "text": [
            "['Bus', 'Bus', 'Bus', 'Bus', 'Bus']\n"
          ]
        }
      ],
      "source": [
        "station_types = [\n",
        "    \"Bus\",\n",
        "    \"Bus\",\n",
        "    \"Bus\",\n",
        "    \"Bus\",\n",
        "    \"Bus\"\n",
        "]\n",
        "print(station_types)"
      ]
    },
    {
      "cell_type": "markdown",
      "metadata": {
        "id": "wcc4x1t28Gci"
      },
      "source": [
        "Let's change the value for `station_types[2]` to be `'Mareographs'` and print out the `station_types` list again."
      ]
    },
    {
      "cell_type": "code",
      "execution_count": 13,
      "metadata": {
        "id": "rBwo3qxv8Gci",
        "outputId": "a2b251bf-7240-40f9-8a16-e9e4a645b511",
        "colab": {
          "base_uri": "https://localhost:8080/"
        }
      },
      "outputs": [
        {
          "output_type": "stream",
          "name": "stdout",
          "text": [
            "['Bus', 'Bus', 'Train', 'Bus', 'Bus']\n"
          ]
        }
      ],
      "source": [
        "station_types[2] = \"Train\"\n",
        "print(station_types)"
      ]
    },
    {
      "cell_type": "markdown",
      "metadata": {
        "id": "gtxjgk_N8Gci"
      },
      "source": [
        "### Data types in lists\n",
        "\n",
        "Lists can also store more than one type of data. Let’s consider that in addition to having a list of each station name, type, latitude, etc. we would like to have a list of all of the values for station ‘Karlstad Universitetet’. Before we create this list we need to define a few values related to the Karlstad Universitetet station."
      ]
    },
    {
      "cell_type": "code",
      "execution_count": 14,
      "metadata": {
        "id": "9L02XA9F8Gci"
      },
      "outputs": [],
      "source": [
        "station_name = \"Karlstad Universitetet\""
      ]
    },
    {
      "cell_type": "code",
      "execution_count": 15,
      "metadata": {
        "id": "ap6xeWui8Gci"
      },
      "outputs": [],
      "source": [
        "station_id = 123456"
      ]
    },
    {
      "cell_type": "code",
      "execution_count": 16,
      "metadata": {
        "id": "CFqpGapC8Gci"
      },
      "outputs": [],
      "source": [
        "station_lat = 44.56"
      ]
    },
    {
      "cell_type": "code",
      "execution_count": 17,
      "metadata": {
        "id": "yPeHWu6W8Gcj"
      },
      "outputs": [],
      "source": [
        "station_lon = 10.54"
      ]
    },
    {
      "cell_type": "code",
      "execution_count": 18,
      "metadata": {
        "id": "3dIIFwB58Gcj"
      },
      "outputs": [],
      "source": [
        "station_type = \"Bus\""
      ]
    },
    {
      "cell_type": "markdown",
      "metadata": {
        "id": "zngfuz5q8Gcj"
      },
      "source": [
        "Now that we have defined some of the Karlstad Universitetet variables we can create the Karlstad Universitetet list."
      ]
    },
    {
      "cell_type": "code",
      "execution_count": 19,
      "metadata": {
        "id": "V9ugF7fZ8Gcj",
        "outputId": "b8d7bf02-300e-420d-eda8-cfab1331fabe",
        "colab": {
          "base_uri": "https://localhost:8080/"
        }
      },
      "outputs": [
        {
          "output_type": "stream",
          "name": "stdout",
          "text": [
            "['Karlstad Universitetet', 123456, 44.56, 10.54, 'Bus']\n"
          ]
        }
      ],
      "source": [
        "station_karl_uni = [station_name, station_id, station_lat, station_lon, station_type]\n",
        "print(station_karl_uni)"
      ]
    },
    {
      "cell_type": "markdown",
      "metadata": {
        "id": "ndXO_1Q68Gcj"
      },
      "source": [
        "Here we have one list with 3 different types of data in it. We can confirm this using the `type()` function. Let's check the type of `station_karl_uni`, then the types of the values at indices `0-2` in the cells below."
      ]
    },
    {
      "cell_type": "code",
      "execution_count": 20,
      "metadata": {
        "id": "gReE3FLS8Gco",
        "outputId": "4a2c89d5-739f-41a5-cf9f-ae0e8b0b1928",
        "colab": {
          "base_uri": "https://localhost:8080/"
        }
      },
      "outputs": [
        {
          "output_type": "execute_result",
          "data": {
            "text/plain": [
              "list"
            ]
          },
          "metadata": {},
          "execution_count": 20
        }
      ],
      "source": [
        "type(station_karl_uni)"
      ]
    },
    {
      "cell_type": "code",
      "execution_count": 21,
      "metadata": {
        "id": "uNof1MX68Gco",
        "outputId": "5fc37bf0-bc16-430f-ece8-1ec72f79750a",
        "colab": {
          "base_uri": "https://localhost:8080/"
        }
      },
      "outputs": [
        {
          "output_type": "execute_result",
          "data": {
            "text/plain": [
              "str"
            ]
          },
          "metadata": {},
          "execution_count": 21
        }
      ],
      "source": [
        "type(station_karl_uni[0])  # The station name"
      ]
    },
    {
      "cell_type": "code",
      "execution_count": 22,
      "metadata": {
        "id": "LYMoJWYV8Gco",
        "outputId": "c2831c99-0dba-4470-b660-0772f4702fd7",
        "colab": {
          "base_uri": "https://localhost:8080/"
        }
      },
      "outputs": [
        {
          "output_type": "execute_result",
          "data": {
            "text/plain": [
              "int"
            ]
          },
          "metadata": {},
          "execution_count": 22
        }
      ],
      "source": [
        "type(station_karl_uni[1])  # The ID"
      ]
    },
    {
      "cell_type": "code",
      "execution_count": 23,
      "metadata": {
        "id": "-7FY8PgA8Gco",
        "outputId": "974754a3-9312-4180-b51b-ceb81986e953",
        "colab": {
          "base_uri": "https://localhost:8080/"
        }
      },
      "outputs": [
        {
          "output_type": "execute_result",
          "data": {
            "text/plain": [
              "float"
            ]
          },
          "metadata": {},
          "execution_count": 23
        }
      ],
      "source": [
        "type(station_karl_uni[2])  # The station latitude"
      ]
    },
    {
      "cell_type": "markdown",
      "metadata": {
        "id": "bzoF0PGp8Gco"
      },
      "source": [
        "### Adding and removing values from lists\n",
        "\n",
        "Finally, we can add and remove values from lists to change their lengths. Let’s consider that we no longer want to include the first value in the `station_names` list. Since we haven't see that list in a bit, let's first print it to the screen."
      ]
    },
    {
      "cell_type": "code",
      "execution_count": 24,
      "metadata": {
        "id": "LuDOntHW8Gco",
        "outputId": "efbd3bf8-3d0a-45ed-97bf-0f362bcc16ad",
        "colab": {
          "base_uri": "https://localhost:8080/"
        }
      },
      "outputs": [
        {
          "output_type": "stream",
          "name": "stdout",
          "text": [
            "['Karlstad Drottninggatan', 'Karlstad Karolinen', 'Karlstad Ronndungen', 'Karlstad Kronoparkskyrkan', 'Karlstad Universitetet']\n"
          ]
        }
      ],
      "source": [
        "print(station_names)"
      ]
    },
    {
      "cell_type": "markdown",
      "metadata": {
        "id": "M4lL1gra8Gco"
      },
      "source": [
        "`del` allows values in lists to be removed. It can also be used to delete values from memory in Python. To remove the first value from the `station_names` list, we can simply type `del station_names[0]`. If you then print out the `station_names` list, you should see the first value has been removed."
      ]
    },
    {
      "cell_type": "code",
      "execution_count": 25,
      "metadata": {
        "id": "Dism7KRv8Gcp"
      },
      "outputs": [],
      "source": [
        "del station_names[0]"
      ]
    },
    {
      "cell_type": "code",
      "execution_count": 26,
      "metadata": {
        "id": "C8K9WOLf8Gcp",
        "outputId": "5e211590-a366-44e3-8412-93700211a0b0",
        "colab": {
          "base_uri": "https://localhost:8080/"
        }
      },
      "outputs": [
        {
          "output_type": "stream",
          "name": "stdout",
          "text": [
            "['Karlstad Karolinen', 'Karlstad Ronndungen', 'Karlstad Kronoparkskyrkan', 'Karlstad Universitetet']\n"
          ]
        }
      ],
      "source": [
        "print(station_names)"
      ]
    },
    {
      "cell_type": "markdown",
      "metadata": {
        "id": "2DV6rieZ8Gcp"
      },
      "source": [
        "If we would instead like to add a few samples to the `station_names` list, we can type `station_names.append('List item to add')`, where `'List item to add'` would be the text that would be added to the list in this example. Let's add two (imaginary) values to our list in the cells below: `'Karlstad Lake Station'` and `'Karlstad Central Park'`. After doing this, let's check the list contents by printing to the screen."
      ]
    },
    {
      "cell_type": "code",
      "execution_count": 27,
      "metadata": {
        "id": "VdimyreB8Gcp"
      },
      "outputs": [],
      "source": [
        "station_names.append(\"Karlstad Lake Station\")\n",
        "station_names.append(\"Karlstad Central Park\")"
      ]
    },
    {
      "cell_type": "code",
      "execution_count": 28,
      "metadata": {
        "id": "T7l-7akD8Gcp",
        "outputId": "7020a011-4d9e-4541-c5cf-0a01cead192b",
        "colab": {
          "base_uri": "https://localhost:8080/"
        }
      },
      "outputs": [
        {
          "output_type": "stream",
          "name": "stdout",
          "text": [
            "['Karlstad Karolinen', 'Karlstad Ronndungen', 'Karlstad Kronoparkskyrkan', 'Karlstad Universitetet', 'Karlstad Lake Station', 'Karlstad Central Park']\n"
          ]
        }
      ],
      "source": [
        "print(station_names)"
      ]
    },
    {
      "cell_type": "markdown",
      "metadata": {
        "id": "GJ3mcHDP8Gcp"
      },
      "source": [
        "As you can see, we add values one at a time using `station_names.append()`. `list.append()` is called a method in Python, which is a function that works for a given data type (a list in this case). We’ll see some other examples of useful list methods below."
      ]
    },
    {
      "cell_type": "markdown",
      "metadata": {
        "id": "9bpmrN3O8Gcp"
      },
      "source": [
        "### Appending to an integer? Not so fast...\n",
        "\n",
        "Let’s consider our list `station_names`. As we know, we already have data in the list `station_names`, and we can modify that data using built-in methods such as `station_names.append()`. In this case, the method `append()` is something that exists for lists, but not for other data types. It is intuitive that you might like to add (or append) things to a list, but perhaps it does not make sense to append to other data types. Below, let's create a variable `station_name_length` that we can use to store the length of the list `station_names`. We can then print the value of `station_name_length` to confirm the length is correct."
      ]
    },
    {
      "cell_type": "code",
      "execution_count": 29,
      "metadata": {
        "id": "LFlwnaaL8Gcp"
      },
      "outputs": [],
      "source": [
        "station_name_length = len(station_names)"
      ]
    },
    {
      "cell_type": "code",
      "execution_count": 30,
      "metadata": {
        "id": "fJ4ELxYX8Gcq",
        "outputId": "814e14b1-f732-419f-8d6d-81349fff9d5a",
        "colab": {
          "base_uri": "https://localhost:8080/"
        }
      },
      "outputs": [
        {
          "output_type": "stream",
          "name": "stdout",
          "text": [
            "6\n"
          ]
        }
      ],
      "source": [
        "print(station_name_length)"
      ]
    },
    {
      "cell_type": "markdown",
      "metadata": {
        "id": "vLchi1bB8Gcq"
      },
      "source": [
        "If we check the data type of `station_name_length`, we can see it is an integer value, as expected (do that below). What happens if you try to append the value `1` to `station_name_length`?"
      ]
    },
    {
      "cell_type": "code",
      "execution_count": 31,
      "metadata": {
        "id": "Ob0lxilB8Gcq",
        "outputId": "ec1c672c-ffb8-4e57-ae9c-dc1d8ab4ee6c",
        "colab": {
          "base_uri": "https://localhost:8080/"
        }
      },
      "outputs": [
        {
          "output_type": "execute_result",
          "data": {
            "text/plain": [
              "int"
            ]
          },
          "metadata": {},
          "execution_count": 31
        }
      ],
      "source": [
        "type(station_name_length)"
      ]
    },
    {
      "cell_type": "code",
      "execution_count": 32,
      "metadata": {
        "tags": [
          "raises-exception"
        ],
        "id": "AD5GKmjQ8Gcr",
        "outputId": "d59ab225-121f-4925-93fe-e7eddda4fc13",
        "colab": {
          "base_uri": "https://localhost:8080/",
          "height": 175
        }
      },
      "outputs": [
        {
          "output_type": "error",
          "ename": "AttributeError",
          "evalue": "ignored",
          "traceback": [
            "\u001b[0;31m---------------------------------------------------------------------------\u001b[0m",
            "\u001b[0;31mAttributeError\u001b[0m                            Traceback (most recent call last)",
            "\u001b[0;32m<ipython-input-32-69d63b22a4c2>\u001b[0m in \u001b[0;36m<cell line: 1>\u001b[0;34m()\u001b[0m\n\u001b[0;32m----> 1\u001b[0;31m \u001b[0mstation_name_length\u001b[0m\u001b[0;34m.\u001b[0m\u001b[0mappend\u001b[0m\u001b[0;34m(\u001b[0m\u001b[0;36m1\u001b[0m\u001b[0;34m)\u001b[0m\u001b[0;34m\u001b[0m\u001b[0;34m\u001b[0m\u001b[0m\n\u001b[0m",
            "\u001b[0;31mAttributeError\u001b[0m: 'int' object has no attribute 'append'"
          ]
        }
      ],
      "source": [
        "station_name_length.append(1)"
      ]
    },
    {
      "cell_type": "markdown",
      "metadata": {
        "id": "YG6I30RL8Gcr"
      },
      "source": [
        "Here we get an `AttributeError` because there is no method built in to the `int` data type to append to `int` data. While `append()` makes sense for `list` data, it is not sensible for `int` data, which is the reason no such method exists for `int` data."
      ]
    },
    {
      "cell_type": "markdown",
      "metadata": {
        "id": "qBsupmGF8Gcr"
      },
      "source": [
        "### Some other useful list methods\n",
        "\n",
        "With lists we can do a number of useful things, such as count the number of times a value occurs in a list or where it occurs. The `list.count()` method can be used to find the number of instances of an item in a list. For instance, we can check to see how many times `'Karlstad Kronoparkskyrkan'` occurs in our list `station_names` by typing `station_names.count('Karlstad Kronoparkskyrkan')`."
      ]
    },
    {
      "cell_type": "code",
      "execution_count": 33,
      "metadata": {
        "id": "UnEykze48Gcr",
        "outputId": "1ae92ee2-9bd9-4836-aee1-f50f6211d824",
        "colab": {
          "base_uri": "https://localhost:8080/"
        }
      },
      "outputs": [
        {
          "output_type": "execute_result",
          "data": {
            "text/plain": [
              "1"
            ]
          },
          "metadata": {},
          "execution_count": 33
        }
      ],
      "source": [
        "# The count method counts the number of occurences of a value\n",
        "station_names.count(\"Karlstad Kronoparkskyrkan\")"
      ]
    },
    {
      "cell_type": "markdown",
      "metadata": {
        "id": "_K-tKqjz8Gcr"
      },
      "source": [
        "Similarly, we can use the `list.index()` method to find the index value of a given item in a list. Let's use the cell below to find the index of `Karlstad Kronoparkskyrkan'` in the `station_names` list."
      ]
    },
    {
      "cell_type": "code",
      "execution_count": 34,
      "metadata": {
        "id": "8LDejld28Gcr",
        "outputId": "9cbc0bf0-b35d-469e-cbf7-f8f01ef2f156",
        "colab": {
          "base_uri": "https://localhost:8080/"
        }
      },
      "outputs": [
        {
          "output_type": "execute_result",
          "data": {
            "text/plain": [
              "2"
            ]
          },
          "metadata": {},
          "execution_count": 34
        }
      ],
      "source": [
        "# The index method gives the index value of an item in a list\n",
        "station_names.index(\"Karlstad Kronoparkskyrkan\")"
      ]
    },
    {
      "cell_type": "markdown",
      "metadata": {
        "id": "437Zygtf8Gcr"
      },
      "source": [
        "The good news here is that our selected station name is only in the list once. Should we need to modify it for some reason, we also now know where it is in the list (index `2`).\n",
        "\n",
        "There are two other common methods for lists that we need to see."
      ]
    },
    {
      "cell_type": "markdown",
      "metadata": {
        "id": "Vx6tExVu8Gct"
      },
      "source": [
        "### Reversing a list\n",
        "\n",
        "First, there is the `list.reverse()` method, used to reverse the order of items in a list. Let's reverse our `station_names` list below and then print the results."
      ]
    },
    {
      "cell_type": "code",
      "execution_count": 35,
      "metadata": {
        "id": "oFjok90w8Gct"
      },
      "outputs": [],
      "source": [
        "station_names.reverse()"
      ]
    },
    {
      "cell_type": "code",
      "execution_count": 36,
      "metadata": {
        "id": "HovrE9oH8Gct",
        "outputId": "1d8af0e6-bd46-409c-826a-ba183c1c075a",
        "colab": {
          "base_uri": "https://localhost:8080/"
        }
      },
      "outputs": [
        {
          "output_type": "stream",
          "name": "stdout",
          "text": [
            "['Karlstad Central Park', 'Karlstad Lake Station', 'Karlstad Universitetet', 'Karlstad Kronoparkskyrkan', 'Karlstad Ronndungen', 'Karlstad Karolinen']\n"
          ]
        }
      ],
      "source": [
        "print(station_names)"
      ]
    },
    {
      "cell_type": "markdown",
      "metadata": {
        "id": "vTxU7MJW8Gct"
      },
      "source": [
        "Yay, it works!"
      ]
    },
    {
      "cell_type": "markdown",
      "metadata": {
        "id": "sAJcl_kJ8Gct"
      },
      "source": [
        "```{caution}\n",
        "A common mistake when reversing lists is to do something like `station_names = station_names.reverse()`. **Do not do this!** When reversing lists with `.reverse()` the `None` value is returned (this is why there is no screen ouput when running `station_names.reverse()`). If you then assign the output of `station_names.reverse()` to `station_names` you will reverse the list, but then overwrite its contents with the returned value `None`. This means you’ve deleted the contents of your list (!).\n",
        "```"
      ]
    },
    {
      "cell_type": "markdown",
      "metadata": {
        "id": "q7pVwFlz8Gct"
      },
      "source": [
        "### Sorting a list\n",
        "\n",
        "The `list.sort()` method works the same way. Let's sort our `station_names` list and print its contents below."
      ]
    },
    {
      "cell_type": "code",
      "execution_count": 37,
      "metadata": {
        "id": "INmAAtyo8Gct"
      },
      "outputs": [],
      "source": [
        "station_names.sort()  # Notice no output here..."
      ]
    },
    {
      "cell_type": "code",
      "execution_count": 38,
      "metadata": {
        "id": "cEmMfeGP8Gcu",
        "outputId": "23b73922-d33c-4424-cdab-45c9948641a0",
        "colab": {
          "base_uri": "https://localhost:8080/"
        }
      },
      "outputs": [
        {
          "output_type": "stream",
          "name": "stdout",
          "text": [
            "['Karlstad Central Park', 'Karlstad Karolinen', 'Karlstad Kronoparkskyrkan', 'Karlstad Lake Station', 'Karlstad Ronndungen', 'Karlstad Universitetet']\n"
          ]
        }
      ],
      "source": [
        "print(station_names)"
      ]
    },
    {
      "cell_type": "markdown",
      "metadata": {
        "id": "fXAqNwdD8Gcu"
      },
      "source": [
        "As you can see, the list has been sorted alphabetically using the `list.sort()` method, but there is no screen output when this occurs. Again, if you were to assign that output to `station_names` the list would get sorted, but the contents would then be assigned `None`."
      ]
    },
    {
      "cell_type": "markdown",
      "metadata": {
        "id": "LvjFZjhA8Gcu"
      },
      "source": [
        "```{note}\n",
        " Alphabetical sorting in Python places capital letters before lowercase letters.\n",
        "```"
      ]
    },
    {
      "cell_type": "markdown",
      "metadata": {
        "id": "W03hOrFX8Gcu"
      },
      "source": [
        "## Making different data types work together\n",
        "\n",
        "In the previous lesson we learned how to determine a variable's {term}`data type` and also saw some examples of which data types are compatible with one another. We will continue that theme here and learn how to enable data of different types to work together."
      ]
    },
    {
      "cell_type": "markdown",
      "metadata": {
        "id": "OOrpDc4q8Gcu"
      },
      "source": [
        "### Reminder: Data types and their compatibility\n",
        "\n",
        "We can explore the different types of data stored in variables using the `type()` function.\n",
        "Let's use the cells below to check the data types of the variables `station_name`, `station_id`, and `station_lat`."
      ]
    },
    {
      "cell_type": "code",
      "execution_count": 39,
      "metadata": {
        "id": "_DbBaL-68Gcu",
        "outputId": "88149062-41e9-40e4-f8fb-810f00cd79be",
        "colab": {
          "base_uri": "https://localhost:8080/"
        }
      },
      "outputs": [
        {
          "output_type": "execute_result",
          "data": {
            "text/plain": [
              "str"
            ]
          },
          "metadata": {},
          "execution_count": 39
        }
      ],
      "source": [
        "type(station_name)"
      ]
    },
    {
      "cell_type": "code",
      "execution_count": 40,
      "metadata": {
        "id": "mXTeoPZT8Gcu",
        "outputId": "b933aabb-f71b-452a-9afc-73f87d9da83d",
        "colab": {
          "base_uri": "https://localhost:8080/"
        }
      },
      "outputs": [
        {
          "output_type": "execute_result",
          "data": {
            "text/plain": [
              "int"
            ]
          },
          "metadata": {},
          "execution_count": 40
        }
      ],
      "source": [
        "type(station_id)"
      ]
    },
    {
      "cell_type": "code",
      "execution_count": 41,
      "metadata": {
        "id": "QysKwoqE8Gcv",
        "outputId": "32f8a27b-3cf4-40ab-878e-39d804dbe365",
        "colab": {
          "base_uri": "https://localhost:8080/"
        }
      },
      "outputs": [
        {
          "output_type": "execute_result",
          "data": {
            "text/plain": [
              "float"
            ]
          },
          "metadata": {},
          "execution_count": 41
        }
      ],
      "source": [
        "type(station_lat)"
      ]
    },
    {
      "cell_type": "markdown",
      "metadata": {
        "id": "VSlBV1778Gcv"
      },
      "source": [
        "As expected, we see that the `station_name` is a character string, the `station_id` is an integer, and the `station_lat` is a floating point number."
      ]
    },
    {
      "cell_type": "markdown",
      "metadata": {
        "id": "p2Ky1RuO8Gcv"
      },
      "source": [
        "```{hint}\n",
        "Remember, the data types are important because some are not compatible with one another.\n",
        "```\n",
        "\n",
        "What happens when you try to add the variables `station_name` and `station_id` in the cell below?"
      ]
    },
    {
      "cell_type": "code",
      "execution_count": 42,
      "metadata": {
        "tags": [
          "raises-exception"
        ],
        "id": "P5WZS0br8Gcv",
        "outputId": "a0868bed-5c01-4e6c-d94f-8b1c0906da6c",
        "colab": {
          "base_uri": "https://localhost:8080/",
          "height": 175
        }
      },
      "outputs": [
        {
          "output_type": "error",
          "ename": "TypeError",
          "evalue": "ignored",
          "traceback": [
            "\u001b[0;31m---------------------------------------------------------------------------\u001b[0m",
            "\u001b[0;31mTypeError\u001b[0m                                 Traceback (most recent call last)",
            "\u001b[0;32m<ipython-input-42-351383cf58e2>\u001b[0m in \u001b[0;36m<cell line: 1>\u001b[0;34m()\u001b[0m\n\u001b[0;32m----> 1\u001b[0;31m \u001b[0mstation_name\u001b[0m \u001b[0;34m+\u001b[0m \u001b[0mstation_id\u001b[0m\u001b[0;34m\u001b[0m\u001b[0;34m\u001b[0m\u001b[0m\n\u001b[0m",
            "\u001b[0;31mTypeError\u001b[0m: can only concatenate str (not \"int\") to str"
          ]
        }
      ],
      "source": [
        "station_name + station_id"
      ]
    },
    {
      "cell_type": "markdown",
      "metadata": {
        "id": "YVfV2tX78Gcv"
      },
      "source": [
        "Here we get a `TypeError` because Python does not know to combine a string of characters (`station_name`) with an integer value (`station_id`)."
      ]
    },
    {
      "cell_type": "markdown",
      "metadata": {
        "id": "rLVSlDfA8Gcv"
      },
      "source": [
        "### Converting data from one type to another\n",
        "\n",
        "It is not the case that things like the `station_name` and `station_id` cannot be combined at all, but in order to combine a character string with a number we need to perform a *data type conversion* to make them compatible. Let's convert `station_id` to a character string using the `str()` function. We can store the converted variable as `station_id_str`."
      ]
    },
    {
      "cell_type": "code",
      "execution_count": 43,
      "metadata": {
        "id": "SqUAMa9l8Gcw"
      },
      "outputs": [],
      "source": [
        "station_id_str = str(station_id)"
      ]
    },
    {
      "cell_type": "markdown",
      "metadata": {
        "id": "Bgmu6f-h8Gcw"
      },
      "source": [
        "We can confirm the type has changed by checking the type of `station_id_str`, or by checking the output when you type the name of the variable into a cell and run it."
      ]
    },
    {
      "cell_type": "code",
      "execution_count": 44,
      "metadata": {
        "id": "uMMnD6lU8Gcw",
        "outputId": "20679646-59f5-424b-bee4-c075cae19baa",
        "colab": {
          "base_uri": "https://localhost:8080/"
        }
      },
      "outputs": [
        {
          "output_type": "execute_result",
          "data": {
            "text/plain": [
              "str"
            ]
          },
          "metadata": {},
          "execution_count": 44
        }
      ],
      "source": [
        "type(station_id_str)"
      ]
    },
    {
      "cell_type": "code",
      "execution_count": 45,
      "metadata": {
        "id": "A3kJfQHs8Gcw",
        "outputId": "bd4ed92d-f653-42ed-b379-279451d26267",
        "colab": {
          "base_uri": "https://localhost:8080/",
          "height": 35
        }
      },
      "outputs": [
        {
          "output_type": "execute_result",
          "data": {
            "text/plain": [
              "'123456'"
            ],
            "application/vnd.google.colaboratory.intrinsic+json": {
              "type": "string"
            }
          },
          "metadata": {},
          "execution_count": 45
        }
      ],
      "source": [
        "station_id_str"
      ]
    },
    {
      "cell_type": "markdown",
      "metadata": {
        "id": "L_2j0IR48Gcw"
      },
      "source": [
        "Notice the number is now enclosed in quotation marks. As you can see, `str()` converts a numerical value into a character string with the same numbers as before."
      ]
    },
    {
      "cell_type": "markdown",
      "metadata": {
        "id": "TkAgP1Qe8Gcw"
      },
      "source": [
        "```{note}\n",
        "Similar to using `str()` to convert numbers to character strings, `int()` can be used to convert strings or floating point numbers to integers and `float()` can be used to convert strings or integers to floating point numbers.\n",
        "```"
      ]
    },
    {
      "cell_type": "markdown",
      "metadata": {
        "id": "mCd7EPcX8Gcw"
      },
      "source": [
        "### Combining text and numbers\n",
        "\n",
        "Although most mathematical operations operate on numerical values, a common way to combine character strings is using the addition operator `+`. Let's create a text string in the variable `station_name_and_id` that is the combination of the `station_name` and `station_id` variables. Once we define `station_name_and_id`, we can print it to the screen to see the result."
      ]
    },
    {
      "cell_type": "code",
      "execution_count": 46,
      "metadata": {
        "id": "B-RmpvDh8Gcw"
      },
      "outputs": [],
      "source": [
        "station_name_and_id = station_name + \": \" + str(station_id)"
      ]
    },
    {
      "cell_type": "code",
      "execution_count": 47,
      "metadata": {
        "id": "-37xVj3s8Gcx",
        "outputId": "b0bc02d4-3f9b-442a-a1b6-e3b91cacd277",
        "colab": {
          "base_uri": "https://localhost:8080/"
        }
      },
      "outputs": [
        {
          "output_type": "stream",
          "name": "stdout",
          "text": [
            "Karlstad Universitetet: 123456\n"
          ]
        }
      ],
      "source": [
        "print(station_name_and_id)"
      ]
    },
    {
      "cell_type": "markdown",
      "metadata": {
        "id": "xAByXvcU8Gcx"
      },
      "source": [
        "Note that here we are converting `station_id` to a character string using the `str()` function within the assignment to the variable `station_name_and_id`. Alternatively, we could have simply added `station_name` and `station_id_str`."
      ]
    },
    {
      "cell_type": "markdown",
      "metadata": {
        "id": "uceRKMeu8Gcx"
      },
      "source": [
        "## Working with text (and numbers)\n",
        "\n",
        "The previous example demonstrated how it is possible to combine character strings and numbers (converted to character strings) together using the `+` operator. Although this approach works, it can become quite laborous and error-prone when working with more complicated sets of textual and/or numerical components. In addition, it is sometimes desirable to format the numerical output to change the number of decimal places for floating point values, for example. Hence, next we show a few useful techniques that make manipulating strings easier and more efficient.\n",
        "\n",
        "There are three approaches that can be used to manipulate strings in Python:\n",
        "\n",
        "1. f-strings\n",
        "2. the `.format()` method\n",
        "3. using the `%` operator\n",
        "\n",
        "The f-string approach is recommended and the most modern, introduced in Python 3.6. However, since you are likely to find examples of the older approaches we also show how they work."
      ]
    },
    {
      "cell_type": "markdown",
      "metadata": {
        "id": "4ed541bP8Gcx"
      },
      "source": [
        "### f-String formatting\n",
        "\n",
        "Here, we show how we can combine the `station_name` text, `station_id` integer number and another floating point number `temp` using Python's f-string formatting approach. In addition, we will simultaneously round the floating point number (`temp`) to two decimal places."
      ]
    },
    {
      "cell_type": "code",
      "execution_count": 48,
      "metadata": {
        "id": "Sk9v1UQq8Gcx"
      },
      "outputs": [],
      "source": [
        "# Temperature with many decimals\n",
        "temp = 18.56789876"
      ]
    },
    {
      "cell_type": "code",
      "execution_count": 49,
      "metadata": {
        "id": "SL9fZpA58Gcx"
      },
      "outputs": [],
      "source": [
        "# 1. The f-string approach (recommended)\n",
        "info_text = f\"The temperature at {station_name} station (ID: {station_id}) is {temp:.2f} Celsius.\""
      ]
    },
    {
      "cell_type": "code",
      "execution_count": 50,
      "metadata": {
        "id": "WK_GFL-a8Gcy",
        "outputId": "39a486f7-3dc0-4086-f841-03cb4dca5c87",
        "colab": {
          "base_uri": "https://localhost:8080/"
        }
      },
      "outputs": [
        {
          "output_type": "stream",
          "name": "stdout",
          "text": [
            "The temperature at Karlstad Universitetet station (ID: 123456) is 18.57 Celsius.\n"
          ]
        }
      ],
      "source": [
        "print(info_text)"
      ]
    },
    {
      "cell_type": "markdown",
      "metadata": {
        "id": "jNK9yYwi8Gcy"
      },
      "source": [
        "So, here we have managed to combined three different data types and format the floating point value in a single line. Let's break the f-string down a bit to understand how it works.\n",
        "\n",
        "The key components here are:\n",
        "\n",
        "- The text that you want to create and/or modify is enclosed within the quotes preceded with letter `f`.\n",
        "- You can include any existing variable in the text template by placing the name of the variable inside a set of curly braces `{}`.\n",
        "    - Using string formatting, it is also possible to insert numbers (such as `station_id` and `temp`) into the body of text without needing first to convert the data type to a string. This is because the f-string functionality does the data type conversion for us.\n",
        "- It is possible to round numbers on the fly to a specific precision, such as two decimal points as in our example by adding format specifier (`:.2f`) after the variable that we want to format.\n",
        "    - The format specifier works by first adding a colon (`:`) after the variable name\n",
        "    - The decimal precision can be specified by adding a dot (`.`) followed by a number that indicates the number of decimal places (two in our case)\n",
        "    - The final character `f` in the format specifier defines the type of the conversion that will be conducted\n",
        "        - `f` will convert the value to decimal number\n",
        "        - `e` will make the number appear in scientific notation\n",
        "        - `%` will convert the value to a percentage\n",
        "\n",
        "Of the above, the most important thing is to remember to include the `f` at the start of your f-strings :)."
      ]
    },
    {
      "cell_type": "markdown",
      "metadata": {
        "id": "uHOPUoY88Gcy"
      },
      "source": [
        "### Other approaches for string formatting (not recommended)\n",
        "\n",
        "As mentioned above, there are other approaches that can be used to format text and combine different data types. The first one is the `.format()` method. For example:"
      ]
    },
    {
      "cell_type": "code",
      "execution_count": 51,
      "metadata": {
        "id": "g-KuMHxQ8Gcy",
        "outputId": "fc46a1e0-29ee-4d28-b73b-8d485759993d",
        "colab": {
          "base_uri": "https://localhost:8080/"
        }
      },
      "outputs": [
        {
          "output_type": "stream",
          "name": "stdout",
          "text": [
            "The temperature at Karlstad Universitetet station (ID: 123456) is 18.57 Celsius.\n"
          ]
        }
      ],
      "source": [
        "# 2. .format() approach (not recommended anymore)\n",
        "info_text2 = \"The temperature at {0} station (ID: {1}) is {2:.2f} Celsius.\".format(\n",
        "    station_name, station_id, temp\n",
        ")\n",
        "print(info_text2)"
      ]
    },
    {
      "cell_type": "markdown",
      "metadata": {
        "id": "VPJWQpIf8Gcy"
      },
      "source": [
        "As you can see, here we get the same result as with f-strings using the `.format()` method, which is placed after the quotes. Placeholders are inserted inside curly braces where the numbers refer to the order of the variables listed in the `.format()` function. There are other ways to use this same approach, but the example above is typical.\n",
        "\n",
        "The last (historical) string formatting approach is to use the `%` operator. In this approach, the placeholder `%` is added within the quotes, and the variables that are inserted into the body of text are placed inside parentheses after another `%` operator, like this:"
      ]
    },
    {
      "cell_type": "code",
      "execution_count": 52,
      "metadata": {
        "id": "62eBK_ZW8Gcy",
        "outputId": "2d60f29e-f17b-46ad-fdb6-d462bc2e3fca",
        "colab": {
          "base_uri": "https://localhost:8080/"
        }
      },
      "outputs": [
        {
          "output_type": "stream",
          "name": "stdout",
          "text": [
            "The temperature at Karlstad Universitetet station (ID: 123456) is 18.57 Celsius.\n"
          ]
        }
      ],
      "source": [
        "# 3. %-operator approach (not recommended anymore)\n",
        "info_text3 = \"The temperature at %s station (ID: %s) is %.2f Celsius.\" % (\n",
        "    station_name,\n",
        "    station_id,\n",
        "    temp,\n",
        ")\n",
        "print(info_text3)"
      ]
    },
    {
      "cell_type": "markdown",
      "metadata": {
        "id": "9PS-8SME8Gcy"
      },
      "source": [
        "The order of the variables within the parentheses specify which `%` placeholder will receive what information and the number of variables should be exactly the same as the number of `%` placeholders within the text template."
      ]
    },
    {
      "cell_type": "markdown",
      "metadata": {
        "id": "XIvzGgyn8Gcy"
      },
      "source": [
        "### More information about formatting text and numbers\n",
        "\n",
        "Of course, there is much more that can be done to format and interact with character strings and numbers. For more information, please have a look at the sites linked below.\n",
        "\n",
        "- [Common string manipulation techniques from *Introduction to Python for Geographic Data Analysis*](https://python-gis-book.readthedocs.io/en/develop/part1/chapter-02/nb/00-python-basics.html#common-string-manipulation-techniques)\n",
        "- [Python documentation: PEP 498 - Literal string interpolation](https://www.python.org/dev/peps/pep-0498/)"
      ]
    }
  ],
  "metadata": {
    "kernelspec": {
      "display_name": "Python 3 (ipykernel)",
      "language": "python",
      "name": "python3"
    },
    "language_info": {
      "codemirror_mode": {
        "name": "ipython",
        "version": 3
      },
      "file_extension": ".py",
      "mimetype": "text/x-python",
      "name": "python",
      "nbconvert_exporter": "python",
      "pygments_lexer": "ipython3",
      "version": "3.9.7"
    },
    "colab": {
      "provenance": []
    }
  },
  "nbformat": 4,
  "nbformat_minor": 0
}