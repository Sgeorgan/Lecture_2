{
 "cells": [
  {
   "cell_type": "markdown",
   "metadata": {},
   "source": [
    "# GCP 2 - Describing your code\n",
    "\n",
    "This week our good programming practice is about describing your code. What we mean here is providing some descriptive text that helps the user (you in many cases) understand what the code is used for, and how certain sections work. In a Jupyter notebook, this text can take two basic forms:\n",
    "\n",
    "- **Code comments**: Text included within a code cell to help the user understand what the code is doing\n",
    "- **Markdown text**: Text in Markdown cells that provides a broader view of the code or analysis that follows.\n",
    "\n",
    "We'll provide examples of both below, along with some tips."
   ]
  },
  {
   "cell_type": "markdown",
   "metadata": {},
   "source": [
    "## Do I need to describe my code? Yes!\n",
    "\n",
    "\n",
    "Below we review the main forms of code descriptions we'll use in our Jupyter notebooks."
   ]
  },
  {
   "cell_type": "markdown",
   "metadata": {},
   "source": [
    "## Code comments\n",
    "\n",
    "Code comments are text within your Python software that does not get executed when the software is run. This text is mixed within the code, and often used to describe parts or all of the code work. There are two types of code comments in Python, described below.\n",
    "\n",
    "### Line comments\n",
    "\n",
    "Line comments begin with the `#` character and everything to the right of that character will be ignored by the Python interpreter. These comments are most frequently used to describe single lines of code or a small group of related lines. Let's have a look at an example."
   ]
  },
  {
   "cell_type": "code",
   "execution_count": null,
   "metadata": {},
   "outputs": [],
   "source": [
    "# This is a line comment. It will be ignored when this cell is run"
   ]
  },
  {
   "cell_type": "markdown",
   "metadata": {},
   "source": [
    "When you run the cell above, nothing happens. The `#` character indicates the line contains a comment and the Python interpreter simply skips over this line.\n",
    "\n",
    "Let's have a look at a few more examples."
   ]
  },
  {
   "cell_type": "code",
   "execution_count": 1,
   "metadata": {},
   "outputs": [],
   "source": [
    "# This list has the names of some bus stops in Karlstad\n",
    "station_names = [\n",
    "    \"Karlstad Drottninggatan\",\n",
    "    \"Karlstad Karolinen\",\n",
    "    \"Karlstad Ronndungen\",\n",
    "    \"Karlstad Kronoparkskyrkan\",\n",
    "    \"Karlstad Universitetet\"\n",
    "]"
   ]
  },
  {
   "cell_type": "code",
   "execution_count": null,
   "metadata": {},
   "outputs": [],
   "source": [
    "print(station_names[-1])  # This prints the last value in the list station_names"
   ]
  },
  {
   "cell_type": "code",
   "execution_count": 3,
   "metadata": {},
   "outputs": [],
   "source": [
    "# This doesn't work, so I'm commenting it out for now\n",
    "# my_life.append(lots_of_money)"
   ]
  },
  {
   "cell_type": "markdown",
   "metadata": {},
   "source": [
    "In the examples above you can see some of the ways in which line comments can be used in Python. We encourage you to add line comments within your Python cells to help explain what your code does, especially if there are several lines within a given code cell."
   ]
  },
  {
   "cell_type": "markdown",
   "metadata": {},
   "source": [
    "### Block comments\n",
    "\n",
    "Block comments are similar to line comments in that they are embedded within your code and are not executed when a code cell is run. You can begin a line comment with three quotation marks `'''` and end it with the same thing, three quotation marks `'''`. Everything within the groups of quotation marks will be ignored and it does not make any difference whether you use three single `'''` or double `\"\"\"` quotation marks.\n",
    "Let's see some examples."
   ]
  },
  {
   "cell_type": "code",
   "execution_count": 4,
   "metadata": {},
   "outputs": [
    {
     "data": {
      "text/plain": [
       "' This text will also be ignored.\\nEven if it is spread across multiple lines.\\nCool! '"
      ]
     },
     "execution_count": 4,
     "metadata": {},
     "output_type": "execute_result"
    }
   ],
   "source": [
    "\"\"\" This text will also be ignored.\n",
    "Even if it is spread across multiple lines.\n",
    "Cool! \"\"\""
   ]
  },
  {
   "cell_type": "code",
   "execution_count": 5,
   "metadata": {},
   "outputs": [],
   "source": [
    "\"\"\" The list below contains names of FMI observation stations in Helsinki.\n",
    "More information and a complete list of stations can be found at \n",
    "https://en.ilmatieteenlaitos.fi/observation-stations \"\"\"\n",
    "station_names = [\n",
    "    \"Karlstad Drottninggatan\",\n",
    "    \"Karlstad Karolinen\",\n",
    "    \"Karlstad Ronndungen\",\n",
    "    \"Karlstad Kronoparkskyrkan\",\n",
    "    \"Karlstad Universitetet\"\n",
    "]"
   ]
  },
  {
   "cell_type": "code",
   "execution_count": 6,
   "metadata": {},
   "outputs": [
    {
     "data": {
      "text/plain": [
       "' None of the code below works, commenting this out for now.\\nstep_one = learn_to_code()\\nstep_two = become_programmer()\\nstep_three = ???\\nstep_four = profit()\\n'"
      ]
     },
     "execution_count": 6,
     "metadata": {},
     "output_type": "execute_result"
    }
   ],
   "source": [
    "\"\"\" None of the code below works, commenting this out for now.\n",
    "step_one = learn_to_code()\n",
    "step_two = become_programmer()\n",
    "step_three = ???\n",
    "step_four = profit()\n",
    "\"\"\""
   ]
  },
  {
   "cell_type": "markdown",
   "metadata": {},
   "source": [
    "## Markdown text\n",
    "\n",
    "Finally, as noted above we can also use Markdown text cells to provide information about how our code works. The Markdown text is not a replacement for line or block comments in the code cells, but rather a place to provide a broader context for the code. Let's see an example of the use of a Markdown cell."
   ]
  },
  {
   "cell_type": "markdown",
   "metadata": {},
   "source": [
    "### Data source\n",
    "\n",
    "Data used in this example comprises bus stops:\n",
    "\n",
    "- names\n",
    "- locations\n",
    "- types\n",
    "- identification codes\n",
    "\n",
    "These are only some of the bus stops in Karlstad."
   ]
  },
  {
   "cell_type": "code",
   "execution_count": 8,
   "metadata": {},
   "outputs": [],
   "source": [
    "station_names = [\n",
    "    \"Karlstad Drottninggatan\",\n",
    "    \"Karlstad Karolinen\",\n",
    "    \"Karlstad Ronndungen\",\n",
    "    \"Karlstad Kronoparkskyrkan\",\n",
    "    \"Karlstad Universitetet\"\n",
    "]"
   ]
  },
  {
   "cell_type": "markdown",
   "metadata": {},
   "source": [
    "In the example above, you clearly see the benefit of the Markdown cells for providing nicely formatted text to support the code block beneath it. We can also embed images and other features that make the Jupyter notebook document a powerful tool for studying and learning. We'll get more practice working with Markdown cells in the exercise for this week."
   ]
  }
 ],
 "metadata": {
  "kernelspec": {
   "display_name": "Python 3 (ipykernel)",
   "language": "python",
   "name": "python3"
  },
  "language_info": {
   "codemirror_mode": {
    "name": "ipython",
    "version": 3
   },
   "file_extension": ".py",
   "mimetype": "text/x-python",
   "name": "python",
   "nbconvert_exporter": "python",
   "pygments_lexer": "ipython3",
   "version": "3.9.7"
  }
 },
 "nbformat": 4,
 "nbformat_minor": 4
}
