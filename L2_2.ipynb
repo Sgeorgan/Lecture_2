{
 "cells": [
  {
   "cell_type": "markdown",
   "metadata": {},
   "source": [
    "# Explain what you are coding\n",
    "\n",
    "It is extremely important to clarify and describe what your code does. By this, we refer to the integration of descriptive annotations that furnish the user (often yourself) with insights into the code's purpose and its operational mechanics. There's 2 prime ways to do that:\n",
    "\n",
    "- **Code Comments**: These are snippets of text embedded within code cells, serving as signposts that guide the user through the code's logic and flow.\n",
    "- **Markdown Annotations**: Leveraging Markdown cells, these annotations proffer a holistic overview of the succeeding code or analytical discourse, setting the stage for what's to come.\n",
    "\n",
    "In the subsequent sections, we'll navigate through exemplars of both categories, complemented with a sprinkle of best practices.\n"
   ]
  },
  {
   "cell_type": "markdown",
   "metadata": {},
   "source": [
    "## Annotating Within the Code\n",
    "\n",
    "In the universe of Python programming, code comments act as silent observers. They reside amidst your Python script, yet remain passive during execution. Their role? To offer contextual explanations, enriching the narrative of your code's functionality and logic. Python recognizes two primary flavors of code comments, which we'll unpack below.\n",
    "\n",
    "### Inline Annotations\n",
    "\n",
    "Inline annotations or line comments, as they are conventionally termed, kick off with the `#` symbol. Post this character, all ensuing text on that line retreats into the shadows, evading the Python interpreter's notice. Such comments typically serve as succinct descriptors for individual code lines or a compact cluster of them. Let's delve into an illustrative example.\n"
   ]
  },
  {
   "cell_type": "code",
   "execution_count": 1,
   "metadata": {
    "tags": []
   },
   "outputs": [],
   "source": [
    "# This is a line comment. It will be ignored when this cell is run"
   ]
  },
  {
   "cell_type": "markdown",
   "metadata": {},
   "source": [
    "When you run the cell above, nothing happens. The `#` character indicates the line contains a comment and the Python interpreter simply skips over this line.\n",
    "\n",
    "Let's have a look at a few more examples."
   ]
  },
  {
   "cell_type": "code",
   "execution_count": 2,
   "metadata": {
    "tags": []
   },
   "outputs": [],
   "source": [
    "# This list has the names of some bus stops in Karlstad\n",
    "station_names = [\n",
    "    \"Karlstad Drottninggatan\",\n",
    "    \"Karlstad Karolinen\",\n",
    "    \"Karlstad Ronndungen\",\n",
    "    \"Karlstad Kronoparkskyrkan\",\n",
    "    \"Karlstad Universitetet\"\n",
    "]"
   ]
  },
  {
   "cell_type": "code",
   "execution_count": 3,
   "metadata": {
    "tags": []
   },
   "outputs": [
    {
     "name": "stdout",
     "output_type": "stream",
     "text": [
      "Karlstad Universitetet\n"
     ]
    }
   ],
   "source": [
    "print(station_names[-1])  # This prints the last value in the list station_names"
   ]
  },
  {
   "cell_type": "code",
   "execution_count": 4,
   "metadata": {
    "tags": []
   },
   "outputs": [],
   "source": [
    "# This doesn't work, so I'm commenting it out for now\n",
    "# my_life.append(lots_of_money)"
   ]
  },
  {
   "cell_type": "markdown",
   "metadata": {},
   "source": [
    "In the examples above you can see some of the ways in which line comments can be used in Python. We encourage you to add line comments within your Python cells to help explain what your code does, especially if there are several lines within a given code cell."
   ]
  },
  {
   "cell_type": "markdown",
   "metadata": {},
   "source": [
    "### Block comments\n",
    "\n",
    "Block comments are similar to line comments in that they are embedded within your code and are not executed when a code cell is run. You can begin a line comment with three quotation marks `'''` and end it with the same thing, three quotation marks `'''`. Everything within the groups of quotation marks will be ignored and it does not make any difference whether you use three single `'''` or double `\"\"\"` quotation marks.\n",
    "Let's see some examples."
   ]
  },
  {
   "cell_type": "code",
   "execution_count": 5,
   "metadata": {
    "tags": []
   },
   "outputs": [
    {
     "data": {
      "text/plain": [
       "' This text will also be ignored.\\nEven if it is spread across multiple lines.\\nCool! '"
      ]
     },
     "execution_count": 5,
     "metadata": {},
     "output_type": "execute_result"
    }
   ],
   "source": [
    "\"\"\" This text will also be ignored.\n",
    "Even if it is spread across multiple lines.\n",
    "Cool! \"\"\""
   ]
  },
  {
   "cell_type": "code",
   "execution_count": 6,
   "metadata": {
    "tags": []
   },
   "outputs": [],
   "source": [
    "\"\"\" The list below contains names of FMI observation stations in Helsinki.\n",
    "More information and a complete list of stations can be found at \n",
    "https://en.ilmatieteenlaitos.fi/observation-stations \"\"\"\n",
    "station_names = [\n",
    "    \"Karlstad Drottninggatan\",\n",
    "    \"Karlstad Karolinen\",\n",
    "    \"Karlstad Ronndungen\",\n",
    "    \"Karlstad Kronoparkskyrkan\",\n",
    "    \"Karlstad Universitetet\"\n",
    "]"
   ]
  },
  {
   "cell_type": "code",
   "execution_count": 7,
   "metadata": {
    "tags": []
   },
   "outputs": [
    {
     "data": {
      "text/plain": [
       "' None of the code below works, commenting this out for now.\\nstep_one = learn_to_code()\\nstep_two = become_programmer()\\nstep_three = ???\\nstep_four = profit()\\n'"
      ]
     },
     "execution_count": 7,
     "metadata": {},
     "output_type": "execute_result"
    }
   ],
   "source": [
    "\"\"\" None of the code below works, commenting this out for now.\n",
    "step_one = learn_to_code()\n",
    "step_two = become_programmer()\n",
    "step_three = ???\n",
    "step_four = profit()\n",
    "\"\"\""
   ]
  },
  {
   "cell_type": "markdown",
   "metadata": {},
   "source": [
    "## Expanding with Markdown\n",
    "\n",
    "Apart from the conventional code comments, we employ Markdown cells to impart a narrative to our code. It's worth noting that Markdown text shouldn't be perceived as a substitute for inline or block comments within code cells. Instead, it should be seen as a platform to paint the bigger picture, providing overarching context or explaining the rationale behind certain code choices. Let's explore an instance where a Markdown cell elegantly complements the adjacent code.\n"
   ]
  },
  {
   "cell_type": "markdown",
   "metadata": {},
   "source": [
    "### Data source\n",
    "\n",
    "Data used in this example comprises bus stops:\n",
    "\n",
    "- names\n",
    "- locations\n",
    "- types\n",
    "- identification codes\n",
    "\n",
    "These are only some of the bus stops in Karlstad."
   ]
  },
  {
   "cell_type": "code",
   "execution_count": 8,
   "metadata": {
    "tags": []
   },
   "outputs": [],
   "source": [
    "station_names = [\n",
    "    \"Karlstad Drottninggatan\",\n",
    "    \"Karlstad Karolinen\",\n",
    "    \"Karlstad Ronndungen\",\n",
    "    \"Karlstad Kronoparkskyrkan\",\n",
    "    \"Karlstad Universitetet\"\n",
    "]"
   ]
  },
  {
   "cell_type": "code",
   "execution_count": null,
   "metadata": {},
   "outputs": [],
   "source": []
  }
 ],
 "metadata": {
  "kernelspec": {
   "display_name": "Python 3 (ipykernel)",
   "language": "python",
   "name": "python3"
  },
  "language_info": {
   "codemirror_mode": {
    "name": "ipython",
    "version": 3
   },
   "file_extension": ".py",
   "mimetype": "text/x-python",
   "name": "python",
   "nbconvert_exporter": "python",
   "pygments_lexer": "ipython3",
   "version": "3.11.4"
  }
 },
 "nbformat": 4,
 "nbformat_minor": 4
}
